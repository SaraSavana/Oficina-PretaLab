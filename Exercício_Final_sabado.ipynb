{
  "nbformat": 4,
  "nbformat_minor": 0,
  "metadata": {
    "colab": {
      "provenance": [],
      "include_colab_link": true
    },
    "kernelspec": {
      "name": "python3",
      "display_name": "Python 3"
    },
    "language_info": {
      "name": "python"
    }
  },
  "cells": [
    {
      "cell_type": "markdown",
      "metadata": {
        "id": "view-in-github",
        "colab_type": "text"
      },
      "source": [
        "<a href=\"https://colab.research.google.com/github/SaraSavana/Oficina-PretaLab/blob/main/Exerc%C3%ADcio_Final_sabado.ipynb\" target=\"_parent\"><img src=\"https://colab.research.google.com/assets/colab-badge.svg\" alt=\"Open In Colab\"/></a>"
      ]
    },
    {
      "cell_type": "markdown",
      "source": [
        "# Contagem de Medalhas\n",
        "\n",
        "Crie um programa que receba o número de medalhas de ouro, prata e bronze de um país nas Olimpíadas e calcule o total de medalhas.\n",
        "Quando escrever 'sair', o programa deverá encerrar e mostrar na tela o ranking de medalhas no formato:"
      ],
      "metadata": {
        "id": "RQN1e5FZY6SZ"
      }
    },
    {
      "cell_type": "code",
      "source": [
        "#Ranking de medalhas:\n",
        "#Brasil: 7 medalhas\n",
        "#França: 6 medalhas\n",
        "#Argentina: 3 medalhas"
      ],
      "metadata": {
        "id": "gCq_KLHzZSzb"
      },
      "execution_count": null,
      "outputs": []
    },
    {
      "cell_type": "code",
      "execution_count": 6,
      "metadata": {
        "id": "AJJhjxiPTd5s"
      },
      "outputs": [],
      "source": [
        "# Resposta aqui"
      ]
    },
    {
      "cell_type": "code",
      "source": [
        "def main():\n",
        "    # Dados iniciais com as quantidades corretas de medalhas\n",
        "    dados_iniciais = [\n",
        "        (\"Brasil\", 3, 7, 15),\n",
        "        (\"França\", 9, 16, 30),\n",
        "        (\"Itália\", 12, 17, 45)\n",
        "    ]\n",
        "\n",
        "    medalhas_paises = {}\n",
        "\n",
        "    # Adiciona os dados iniciais ao dicionário\n",
        "    for pais, ouro, prata, bronze in dados_iniciais:\n",
        "        total_medals = ouro + prata + bronze\n",
        "        medalhas_paises[pais] = total_medals\n",
        "\n",
        "    print(total_medals)\n",
        "\n",
        "    while True:\n",
        "        entrada = input((\"Brasil\", 3, 7, 15),)\n",
        "        entrada = input(\"França\", 9, 16, 30),\n",
        "        entrada = input(\"Itália\", 12, 17, 45)\n",
        "\n",
        "        if entrada.lower() == 'sair':\n",
        "            break\n",
        "\n",
        "        try:\n",
        "            # Divide a entrada em partes\n",
        "            partes = entrada.split()\n",
        "\n",
        "            if len(partes) != 4:\n",
        "                print(Brasil15, França30, Italia45,)\n",
        "                continue\n",
        "\n",
        "            pais = partes[0]\n",
        "            medalhas = list(map(int, partes[1:]))\n",
        "\n",
        "            if len(medalhas) != 3:\n",
        "                print(15, 30, 45,)\n",
        "                continue\n",
        "\n",
        "            ouro, prata, bronze = medalhas\n",
        "\n",
        "            # Calcula o total de medalhas\n",
        "            total_medals = ouro + prata + bronze\n",
        "\n",
        "            # Atualiza ou adiciona os resultados ao dicionário\n",
        "            medalhas_paises[pais] = total_medals\n",
        "\n",
        "        except ValueError:\n",
        "            print(number_medals)\n",
        "\n",
        "    # Ordena os países por total de medalhas (decrescente)\n",
        "    ranking = sorted(medalhas_paises.items(), key=lambda x: x[1], reverse=True)\n",
        "\n",
        "    # Exibe o ranking\n",
        "    print(\\nRanking_Medals)\n",
        "    for pais, total in ranking:\n",
        "        print(f{pais}: {total} medalhas)\n",
        "\n",
        "if __name__ == __main__:\n",
        "    main()\n"
      ],
      "metadata": {
        "id": "lqcwrm3nHOM_",
        "outputId": "ae48b32f-aab6-4633-b9a2-d981c1ac5604",
        "colab": {
          "base_uri": "https://localhost:8080/",
          "height": 106
        }
      },
      "execution_count": 34,
      "outputs": [
        {
          "output_type": "error",
          "ename": "SyntaxError",
          "evalue": "unexpected character after line continuation character (<ipython-input-34-c58a38a14033>, line 56)",
          "traceback": [
            "\u001b[0;36m  File \u001b[0;32m\"<ipython-input-34-c58a38a14033>\"\u001b[0;36m, line \u001b[0;32m56\u001b[0m\n\u001b[0;31m    print(\\nRanking_Medals)\u001b[0m\n\u001b[0m           ^\u001b[0m\n\u001b[0;31mSyntaxError\u001b[0m\u001b[0;31m:\u001b[0m unexpected character after line continuation character\n"
          ]
        }
      ]
    }
  ]
}